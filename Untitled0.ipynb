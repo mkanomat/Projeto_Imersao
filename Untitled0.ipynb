{
  "nbformat": 4,
  "nbformat_minor": 0,
  "metadata": {
    "colab": {
      "provenance": [],
      "authorship_tag": "ABX9TyMtVoGpHNtkkKgiYu5vbjGz",
      "include_colab_link": true
    },
    "kernelspec": {
      "name": "python3",
      "display_name": "Python 3"
    },
    "language_info": {
      "name": "python"
    }
  },
  "cells": [
    {
      "cell_type": "markdown",
      "metadata": {
        "id": "view-in-github",
        "colab_type": "text"
      },
      "source": [
        "<a href=\"https://colab.research.google.com/github/mkanomat/Projeto_Imersao/blob/main/Untitled0.ipynb\" target=\"_parent\"><img src=\"https://colab.research.google.com/assets/colab-badge.svg\" alt=\"Open In Colab\"/></a>"
      ]
    },
    {
      "cell_type": "markdown",
      "source": [
        "#Instalando o SDK do Google"
      ],
      "metadata": {
        "id": "0dQSjqwPpgXV"
      }
    },
    {
      "cell_type": "code",
      "source": [
        "!pip install -q -U google-generativeai\n"
      ],
      "metadata": {
        "id": "gDWLhPfmQ0HJ"
      },
      "execution_count": null,
      "outputs": []
    },
    {
      "cell_type": "code",
      "source": [
        "import google.generativeai as genai\n",
        "from google.colab import userdata\n",
        "api_key = userdata.get(\"secret_key\")\n",
        "genai.configure(api_key=api_key)"
      ],
      "metadata": {
        "id": "bO-Ew6onp83L"
      },
      "execution_count": 27,
      "outputs": []
    },
    {
      "cell_type": "markdown",
      "source": [
        "Listar modelos disponíveis"
      ],
      "metadata": {
        "id": "VEYlzcvoqL-6"
      }
    },
    {
      "cell_type": "code",
      "source": [
        "for m in genai.list_models():\n",
        "  if 'generateContent' in m.supported_generation_methods:\n",
        "    print(m.name)"
      ],
      "metadata": {
        "colab": {
          "base_uri": "https://localhost:8080/",
          "height": 139
        },
        "id": "d5s8tCm8qHOb",
        "outputId": "8669ae2a-6eb5-446b-dbaa-ee44a88235aa"
      },
      "execution_count": null,
      "outputs": [
        {
          "output_type": "stream",
          "name": "stdout",
          "text": [
            "models/gemini-1.0-pro\n",
            "models/gemini-1.0-pro-001\n",
            "models/gemini-1.0-pro-latest\n",
            "models/gemini-1.0-pro-vision-latest\n",
            "models/gemini-1.5-pro-latest\n",
            "models/gemini-pro\n",
            "models/gemini-pro-vision\n"
          ]
        }
      ]
    },
    {
      "cell_type": "code",
      "source": [
        "generation_config = {\n",
        "    'candidate_count':1,\n",
        "    'temperature':0.5,\n",
        "    }"
      ],
      "metadata": {
        "id": "KDk-pubDrD0Z"
      },
      "execution_count": null,
      "outputs": []
    },
    {
      "cell_type": "code",
      "source": [
        "safety_settings = {\n",
        "    'HARASSMENT': 'BLOCK_NONE',\n",
        "    'HATE': 'BLOCK_NONE',\n",
        "    'SEXUAL': 'BLOCK_NONE',\n",
        "    'DANGEROUS': 'BLOCK_NONE',\n",
        "}"
      ],
      "metadata": {
        "id": "OYhTPYL94jHz"
      },
      "execution_count": null,
      "outputs": []
    },
    {
      "cell_type": "markdown",
      "source": [
        "Inicializando o modelo"
      ],
      "metadata": {
        "id": "BG-pkpxT5irF"
      }
    },
    {
      "cell_type": "code",
      "source": [
        "model = genai.GenerativeModel(model_name=\"gemini-1.0-pro\",\n",
        "                              generation_config=generation_config,\n",
        "                              safety_settings=safety_settings)\n"
      ],
      "metadata": {
        "id": "9N5DalR_5lja"
      },
      "execution_count": null,
      "outputs": []
    },
    {
      "cell_type": "code",
      "source": [
        "response = model.generate_content('Vamos aprender coteudo sobre IA.')\n",
        "print(response.text)"
      ],
      "metadata": {
        "colab": {
          "base_uri": "https://localhost:8080/",
          "height": 922
        },
        "id": "rNr_Gt906sit",
        "outputId": "1752ad40-3419-4ed6-b353-cb954e723ce5"
      },
      "execution_count": null,
      "outputs": [
        {
          "output_type": "stream",
          "name": "stdout",
          "text": [
            "**Introdução à Inteligência Artificial (IA)**\n",
            "\n",
            "**Definição:**\n",
            "A IA é um campo da ciência da computação que se concentra no desenvolvimento de sistemas e máquinas capazes de realizar tarefas que normalmente requerem inteligência humana, como aprendizado, raciocínio e resolução de problemas.\n",
            "\n",
            "**Tipos de IA:**\n",
            "\n",
            "* **IA Estreita (ANI):** Sistemas projetados para executar tarefas específicas, como jogar xadrez ou reconhecer imagens.\n",
            "* **IA Geral (AGI):** Sistemas teóricos capazes de realizar uma ampla gama de tarefas intelectuais como os humanos.\n",
            "* **Superinteligência (ASI):** Sistemas hipotéticos que superam a inteligência humana em todas as áreas.\n",
            "\n",
            "**Técnicas de IA:**\n",
            "\n",
            "* **Aprendizado de Máquina (ML):** Sistemas que aprendem com dados sem serem explicitamente programados.\n",
            "* **Aprendizado Profundo (DL):** Um subconjunto do ML que usa redes neurais artificiais para processar dados complexos.\n",
            "* **Processamento de Linguagem Natural (PNL):** Sistemas que compreendem e geram linguagem humana.\n",
            "* **Visão Computacional (CV):** Sistemas que interpretam e analisam imagens e vídeos.\n",
            "\n",
            "**Aplicações da IA:**\n",
            "\n",
            "* Automação de tarefas\n",
            "* Tomada de decisão melhorada\n",
            "* Personalização de experiências\n",
            "* Detecção de fraudes e anomalias\n",
            "* Diagnóstico e tratamento médico\n",
            "* Pesquisa científica e desenvolvimento\n",
            "* Transporte autônomo\n",
            "\n",
            "**Benefícios da IA:**\n",
            "\n",
            "* Aumento da eficiência e produtividade\n",
            "* Melhoria da precisão e confiabilidade\n",
            "* Personalização de serviços e produtos\n",
            "* Avanços em pesquisa e inovação\n",
            "* Potencial para resolver problemas complexos\n",
            "\n",
            "**Desafios da IA:**\n",
            "\n",
            "* Preocupações éticas e sociais\n",
            "* Viés e discriminação\n",
            "* Segurança e privacidade\n",
            "* Deslocamento de empregos\n",
            "* Regulamentação e governança\n",
            "\n",
            "**Tendências em IA:**\n",
            "\n",
            "* Aprendizado federado\n",
            "* IA Quântica\n",
            "* IA Explicável\n",
            "* IA Responsável\n",
            "* Integração de IA em todos os setores\n"
          ]
        }
      ]
    },
    {
      "cell_type": "code",
      "source": [
        "chat = model.start_chat(history=[])"
      ],
      "metadata": {
        "id": "wZ9UXcE48KU4"
      },
      "execution_count": null,
      "outputs": []
    },
    {
      "cell_type": "code",
      "source": [
        "prompt = input(\"Esperando Prompt: \")\n",
        "\n",
        "while prompt != \"fim\":\n",
        "  response = chat.send_message(prompt)\n",
        "  print(\"Resposta: \", response.text, \"\\n\")\n",
        "  prompt = input(\"Esperando Prompt: \")"
      ],
      "metadata": {
        "colab": {
          "base_uri": "https://localhost:8080/",
          "height": 139
        },
        "id": "F_CnWAhf8pSO",
        "outputId": "c720aede-bc41-4eec-ccbf-f1464066150a"
      },
      "execution_count": null,
      "outputs": [
        {
          "name": "stdout",
          "output_type": "stream",
          "text": [
            "Esperando Prompt: qual a capital do Japão\n",
            "Resposta:  Tóquio \n",
            "\n",
            "Esperando Prompt: qual a comida tipica desse pais\n",
            "Resposta:  Sushi \n",
            "\n",
            "Esperando Prompt: fim\n"
          ]
        }
      ]
    },
    {
      "cell_type": "code",
      "source": [
        "# Melhorando a visualização\n",
        "# Codigo disponivel em https://ai.google.dev/gemini-api/docs/get-started/python?hl=pt-br#import_packages\n",
        "import textwrap\n",
        "from IPython.display import display\n",
        "from IPython.display import Markdown\n",
        "def to_markdown(text):\n",
        "  text = text.replace('•', '  *')\n",
        "  return Markdown(textwrap.indent(text, '> ', predicate=lambda _: True))\n",
        "\n",
        "# Imprimindo o historico\n",
        "for message in chat.history:\n",
        "  display(to_markdown(f'**{message.role}**: {message.parts[0].text}'))\n",
        "  print('--------------------------------------------')"
      ],
      "metadata": {
        "id": "McEi_DwHBjeL",
        "colab": {
          "base_uri": "https://localhost:8080/",
          "height": 268
        },
        "outputId": "2a6e242d-fddf-4da0-b7ad-be45d3a1d647"
      },
      "execution_count": 26,
      "outputs": [
        {
          "output_type": "display_data",
          "data": {
            "text/plain": [
              "<IPython.core.display.Markdown object>"
            ],
            "text/markdown": "> **user**: qual a capital do Japão"
          },
          "metadata": {}
        },
        {
          "output_type": "stream",
          "name": "stdout",
          "text": [
            "--------------------------------------------\n"
          ]
        },
        {
          "output_type": "display_data",
          "data": {
            "text/plain": [
              "<IPython.core.display.Markdown object>"
            ],
            "text/markdown": "> **model**: Tóquio"
          },
          "metadata": {}
        },
        {
          "output_type": "stream",
          "name": "stdout",
          "text": [
            "--------------------------------------------\n"
          ]
        },
        {
          "output_type": "display_data",
          "data": {
            "text/plain": [
              "<IPython.core.display.Markdown object>"
            ],
            "text/markdown": "> **user**: qual a comida tipica desse pais"
          },
          "metadata": {}
        },
        {
          "output_type": "stream",
          "name": "stdout",
          "text": [
            "--------------------------------------------\n"
          ]
        },
        {
          "output_type": "display_data",
          "data": {
            "text/plain": [
              "<IPython.core.display.Markdown object>"
            ],
            "text/markdown": "> **model**: Sushi"
          },
          "metadata": {}
        },
        {
          "output_type": "stream",
          "name": "stdout",
          "text": [
            "--------------------------------------------\n"
          ]
        }
      ]
    }
  ]
}